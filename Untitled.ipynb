{
 "cells": [
  {
   "cell_type": "code",
   "execution_count": 1,
   "id": "764065a8-dd7b-4feb-b1dc-0addf6e78169",
   "metadata": {},
   "outputs": [],
   "source": [
    "import time\n",
    "import os\n",
    "import pickle\n",
    "import numpy as np\n",
    "import torch\n",
    "from torch.utils.data import Dataset, DataLoader\n",
    "import matplotlib.pyplot as plt\n",
    "from tqdm import tqdm\n",
    "from copy import deepcopy\n",
    "\n",
    "from vqvae import vqvae"
   ]
  },
  {
   "cell_type": "code",
   "execution_count": 2,
   "id": "322d1f76-a9b9-48a7-a650-3564061d662d",
   "metadata": {},
   "outputs": [],
   "source": [
    "device = torch.device(\"cuda\" if torch.cuda.is_available() else \"cpu\")"
   ]
  },
  {
   "cell_type": "code",
   "execution_count": 3,
   "id": "a813cac4-d80a-4ae2-9d52-7ddff2dbe0df",
   "metadata": {},
   "outputs": [],
   "source": [
    "with open('dataset/TRAIN.pkl', 'rb') as file:\n",
    "    train_data = pickle.load(file)\n",
    "\n",
    "with open('dataset/TEST.pkl', 'rb') as file:\n",
    "    test_data = pickle.load(file)\n",
    "\n",
    "val_data = test_data[:len(test_data) // 2]\n",
    "test_data = test_data[len(test_data) // 2:]"
   ]
  },
  {
   "cell_type": "code",
   "execution_count": 4,
   "id": "b15d97ad-f6fa-4e7f-89d1-b9ae157d874a",
   "metadata": {},
   "outputs": [],
   "source": [
    "X_train = train_data[:, 1] / 2400\n",
    "X_test = test_data[:, 1] / 2400\n",
    "X_val = val_data[:, 1] / 2400\n",
    "\n",
    "y_train = train_data[:, 0]\n",
    "y_test = test_data[:, 0]\n",
    "y_val = val_data[:, 0]"
   ]
  },
  {
   "cell_type": "code",
   "execution_count": 5,
   "id": "67855f4d-d00f-4e5c-a650-6079f5cf1ad6",
   "metadata": {},
   "outputs": [],
   "source": [
    "train_mask = y_train != 7\n",
    "X_train = X_train[train_mask]\n",
    "y_train = y_train[train_mask]\n",
    "\n",
    "test_mask = y_test != 7\n",
    "X_test = X_test[test_mask]\n",
    "y_test = y_test[test_mask]\n",
    "\n",
    "val_mask = y_val != 7\n",
    "X_val = X_val[val_mask]\n",
    "y_val = y_val[val_mask]"
   ]
  },
  {
   "cell_type": "code",
   "execution_count": 6,
   "id": "a0b39e4d-08f4-4551-9c27-6bff10b577b9",
   "metadata": {},
   "outputs": [],
   "source": [
    "X_train_lens = torch.tensor([len(x) // 4 for x in X_train], dtype=torch.long, device=device)\n",
    "X_val_lens = torch.tensor([len(x) // 4 for x in X_val], dtype=torch.long, device=device)\n",
    "X_test_lens = torch.tensor([len(x) // 4 for x in X_test], dtype=torch.long, device=device)"
   ]
  },
  {
   "cell_type": "code",
   "execution_count": 7,
   "id": "bbe72b42-4b95-4f7e-a1a5-b705a456c287",
   "metadata": {},
   "outputs": [],
   "source": [
    "def pad_or_truncate(x, max_len):\n",
    "    if len(x) > max_len:\n",
    "        return x[:max_len]\n",
    "    else:\n",
    "        return np.pad(x, (0, max_len - len(x)), mode='constant', constant_values=x[-1])"
   ]
  },
  {
   "cell_type": "code",
   "execution_count": 8,
   "id": "3a2878cc-6f56-4499-95a7-d6079ad6ac59",
   "metadata": {},
   "outputs": [],
   "source": [
    "max_len = max(len(x) for x in X_test)\n",
    "max_len = max_len - (max_len % 4)\n",
    "\n",
    "X_train = np.array([pad_or_truncate(x, max_len) for x in X_train])\n",
    "X_test = np.array([pad_or_truncate(x, max_len) for x in X_test])\n",
    "X_val = np.array([pad_or_truncate(x, max_len) for x in X_val])"
   ]
  },
  {
   "cell_type": "code",
   "execution_count": 9,
   "id": "bddb0f16-95e9-4be7-95ad-02dabcada47c",
   "metadata": {},
   "outputs": [],
   "source": [
    "X_train = torch.tensor(X_train, dtype=torch.float).to(device)\n",
    "y_train = np.array(y_train, dtype=np.int64)\n",
    "y_train = torch.tensor(y_train, dtype=torch.long).to(device)"
   ]
  },
  {
   "cell_type": "code",
   "execution_count": 10,
   "id": "e80cca0d-0332-4c34-8387-3125205f111d",
   "metadata": {},
   "outputs": [],
   "source": [
    "X_test = torch.tensor(X_test, dtype=torch.float).to(device)\n",
    "y_test = np.array(y_test, dtype=np.int64)\n",
    "y_test = torch.tensor(y_test, dtype=torch.long).to(device)"
   ]
  },
  {
   "cell_type": "code",
   "execution_count": 11,
   "id": "ecc7247f-14f3-4138-8f0d-c6c3b2da8994",
   "metadata": {},
   "outputs": [],
   "source": [
    "X_val = torch.tensor(X_val, dtype=torch.float).to(device)\n",
    "y_val = np.array(y_val, dtype=np.int64)\n",
    "y_val = torch.tensor(y_val, dtype=torch.long).to(device)"
   ]
  },
  {
   "cell_type": "code",
   "execution_count": 12,
   "id": "205bec15-24b6-431f-a5d3-58e5e57d4475",
   "metadata": {},
   "outputs": [
    {
     "data": {
      "text/plain": [
       "torch.Size([374, 692])"
      ]
     },
     "execution_count": 12,
     "metadata": {},
     "output_type": "execute_result"
    }
   ],
   "source": [
    "X_test.shape"
   ]
  },
  {
   "cell_type": "code",
   "execution_count": 13,
   "id": "d59f240d-ee2c-4dd1-88dc-61c294e1c67f",
   "metadata": {},
   "outputs": [
    {
     "name": "stdout",
     "output_type": "stream",
     "text": [
      "torch.Size([1106, 692])\n",
      "torch.Size([1106])\n"
     ]
    }
   ],
   "source": [
    "print(X_train.shape)\n",
    "print(y_train.shape)"
   ]
  },
  {
   "cell_type": "code",
   "execution_count": 14,
   "id": "475b0c02-efec-45af-8a50-07c4e2c69aeb",
   "metadata": {},
   "outputs": [],
   "source": [
    "tokenizer = torch.load('checkpoints/vqvae_1000.pth', map_location=device, weights_only=False)"
   ]
  },
  {
   "cell_type": "code",
   "execution_count": 15,
   "id": "17d9633e-a820-475c-a198-503774f979f9",
   "metadata": {},
   "outputs": [],
   "source": [
    "z = tokenizer.encoder(X_train)\n",
    "vq_loss, quantized_train, perplexity, embedding_weight, encoding_indices, encodings = tokenizer.vq(z)\n",
    "quantized_train /= 10"
   ]
  },
  {
   "cell_type": "code",
   "execution_count": 16,
   "id": "322bf64d-8da4-4f5d-a6f7-8925640ab1b3",
   "metadata": {},
   "outputs": [],
   "source": [
    "z = tokenizer.encoder(X_val)\n",
    "vq_loss, quantized_val, perplexity, embedding_weight, encoding_indices, encodings = tokenizer.vq(z)\n",
    "quantized_val /= 10"
   ]
  },
  {
   "cell_type": "code",
   "execution_count": 17,
   "id": "e7d8f577-baa7-4490-9230-4e5b317247cf",
   "metadata": {},
   "outputs": [],
   "source": [
    "from transformer import Transformer"
   ]
  },
  {
   "cell_type": "code",
   "execution_count": 18,
   "id": "6efac1fc-d1b6-4266-941a-d4ae0ceadec0",
   "metadata": {},
   "outputs": [],
   "source": [
    "decoder = Transformer(\n",
    "    d_in=64,           # input feature dimension\n",
    "    d_model=256,       # hidden dimension\n",
    "    nhead=4,           # number of attention headshttps://mtg.github.io/IAM-tutorial-ismir22/landing.html\n",
    "    d_hid=256,         # FFN size\n",
    "    nlayers=4,         # number of layers\n",
    "    seq_in_len=173,    # input sequence length\n",
    "    batch_first=True\n",
    ").to(device)"
   ]
  },
  {
   "cell_type": "code",
   "execution_count": 19,
   "id": "27051d37-7ee5-4a29-af8b-2b8e175b0ab7",
   "metadata": {},
   "outputs": [],
   "source": [
    "train_dataset = torch.utils.data.TensorDataset(quantized_train, y_train)\n",
    "train_loader = torch.utils.data.DataLoader(train_dataset, batch_size=64)\n",
    "\n",
    "val_dataset = torch.utils.data.TensorDataset(quantized_val, y_val)\n",
    "val_loader = torch.utils.data.DataLoader(val_dataset, batch_size=64)"
   ]
  },
  {
   "cell_type": "code",
   "execution_count": 20,
   "id": "9e37fa34-bc02-4c38-8561-641c6a9a06b9",
   "metadata": {},
   "outputs": [],
   "source": [
    "import torch.nn as nn\n",
    "import torch.optim as optim\n",
    "\n",
    "criterion = nn.CrossEntropyLoss()\n",
    "optimizer = torch.optim.Adam(decoder.parameters(), lr=1e-4)"
   ]
  },
  {
   "cell_type": "code",
   "execution_count": null,
   "id": "1453e804-3ff7-44ca-94e8-cfa965bcc098",
   "metadata": {
    "scrolled": true
   },
   "outputs": [
    {
     "name": "stderr",
     "output_type": "stream",
     "text": [
      "100%|███████████████████████████████████████████████████████████████████████████████████| 18/18 [00:05<00:00,  3.05it/s]\n"
     ]
    },
    {
     "name": "stdout",
     "output_type": "stream",
     "text": [
      "Epoch 1 | Train Loss: 2.1443 | Train Acc: 15.55% | Val Loss: 2.0986 | Val Acc: 14.95%\n"
     ]
    },
    {
     "name": "stderr",
     "output_type": "stream",
     "text": [
      "100%|███████████████████████████████████████████████████████████████████████████████████| 18/18 [00:05<00:00,  3.09it/s]\n"
     ]
    },
    {
     "name": "stdout",
     "output_type": "stream",
     "text": [
      "Epoch 2 | Train Loss: 2.0463 | Train Acc: 16.00% | Val Loss: 2.0640 | Val Acc: 13.32%\n"
     ]
    },
    {
     "name": "stderr",
     "output_type": "stream",
     "text": [
      " 11%|█████████▎                                                                          | 2/18 [00:00<00:05,  3.00it/s]"
     ]
    }
   ],
   "source": [
    "best_model = None\n",
    "best_val_loss = float('inf')\n",
    "\n",
    "for epoch in range(100):\n",
    "    decoder.train()\n",
    "    train_loss = 0\n",
    "    train_correct = 0\n",
    "    train_total = 0\n",
    "\n",
    "    val_loss = 0\n",
    "    val_correct = 0\n",
    "    val_total = 0\n",
    "\n",
    "    for xtrain_batch, ytrain_batch in tqdm(train_loader):\n",
    "        optimizer.zero_grad()\n",
    "        xtrain = xtrain_batch.permute(2, 0, 1)\n",
    "        #mask_batch = mask_batch.permute(1, 0)\n",
    "        output = decoder(xtrain)\n",
    "        loss = criterion(output, ytrain_batch)\n",
    "        loss.backward(retain_graph=True)\n",
    "        optimizer.step()\n",
    "\n",
    "        train_loss += loss.item()\n",
    "        preds = output.argmax(dim=1)\n",
    "        train_correct += (preds == ytrain_batch).sum().item()\n",
    "        train_total += ytrain_batch.size(0)\n",
    "\n",
    "    for xval_batch, yval_batch in val_loader:\n",
    "        decoder.eval()\n",
    "        with torch.no_grad():\n",
    "            xval = xval_batch.permute(2, 0, 1)\n",
    "            #mask_val_batch = mask_val_batch.permute(1, 0)\n",
    "            #for i in mask_val_batch:\n",
    "             #   print(i) \n",
    "            val_output = decoder(xval)\n",
    "            #print(val_output)\n",
    "            val_batch_loss = criterion(val_output, yval_batch)\n",
    "\n",
    "            val_loss += val_batch_loss.item()\n",
    "            val_preds = val_output.argmax(dim=1)\n",
    "            val_correct += (val_preds == yval_batch).sum().item()\n",
    "            val_total += yval_batch.size(0)\n",
    "\n",
    "    avg_train_loss = train_loss / len(train_loader)\n",
    "    avg_val_loss = val_loss / len(val_loader)\n",
    "\n",
    "    train_accuracy = 100 * train_correct / train_total\n",
    "    val_accuracy = 100 * val_correct / val_total\n",
    "\n",
    "    print(f\"Epoch {epoch+1} | Train Loss: {avg_train_loss:.4f} | Train Acc: {train_accuracy:.2f}% \"\n",
    "          f\"| Val Loss: {avg_val_loss:.4f} | Val Acc: {val_accuracy:.2f}%\")\n",
    "\n",
    "    if avg_val_loss < best_val_loss:\n",
    "        best_val_loss = avg_val_loss\n",
    "        best_model = deepcopy(decoder)\n"
   ]
  },
  {
   "cell_type": "code",
   "execution_count": 24,
   "id": "523eea4f-7713-4901-b577-402fd4b33125",
   "metadata": {},
   "outputs": [],
   "source": [
    "torch.save(best_model, os.path.join(f'checkpoints/transformerdropout.pth'))"
   ]
  },
  {
   "cell_type": "code",
   "execution_count": 25,
   "id": "c53fe8d6-a5d4-4121-8ca2-552a71fbe510",
   "metadata": {},
   "outputs": [],
   "source": [
    "z = tokenizer.encoder(X_test[:100])\n",
    "vq_loss, quantized, perplexity, embedding_weight, encoding_indices, encodings = tokenizer.vq(z)\n",
    "\n",
    "quantized = quantized.permute(2, 0, 1)\n",
    "output = best_model(quantized) "
   ]
  },
  {
   "cell_type": "code",
   "execution_count": 26,
   "id": "8f616953-d355-40df-9b8e-9cf3a4553f7c",
   "metadata": {},
   "outputs": [],
   "source": [
    "out = torch.nn.Softmax(dim=1)(output)\n",
    "a, predicted = torch.max(out, 1)"
   ]
  },
  {
   "cell_type": "code",
   "execution_count": 27,
   "id": "5db74eda-7002-4f5c-ae81-542289b8ce8e",
   "metadata": {},
   "outputs": [],
   "source": [
    "correct_predictions = (predicted == y_test[:100]).sum().item()\n",
    "correct_predictions /= 100"
   ]
  },
  {
   "cell_type": "code",
   "execution_count": 28,
   "id": "72a06ddc-b715-46d8-adf2-f63663b374ae",
   "metadata": {},
   "outputs": [
    {
     "data": {
      "text/plain": [
       "0.73"
      ]
     },
     "execution_count": 28,
     "metadata": {},
     "output_type": "execute_result"
    }
   ],
   "source": [
    "correct_predictions"
   ]
  },
  {
   "cell_type": "code",
   "execution_count": null,
   "id": "48b461f1-4a2d-4bee-9242-4519f90fb90f",
   "metadata": {},
   "outputs": [],
   "source": []
  },
  {
   "cell_type": "code",
   "execution_count": null,
   "id": "03facf1c-e6ff-4e43-b31d-797f85096dcc",
   "metadata": {},
   "outputs": [],
   "source": []
  }
 ],
 "metadata": {
  "kernelspec": {
   "display_name": "Python 3 (ipykernel)",
   "language": "python",
   "name": "python3"
  },
  "language_info": {
   "codemirror_mode": {
    "name": "ipython",
    "version": 3
   },
   "file_extension": ".py",
   "mimetype": "text/x-python",
   "name": "python",
   "nbconvert_exporter": "python",
   "pygments_lexer": "ipython3",
   "version": "3.10.16"
  }
 },
 "nbformat": 4,
 "nbformat_minor": 5
}
